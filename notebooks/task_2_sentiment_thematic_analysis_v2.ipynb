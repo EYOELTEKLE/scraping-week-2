{
 "cells": [
  {
   "cell_type": "markdown",
   "metadata": {},
   "source": [
    "# Task 2: Sentiment and Thematic Analysis"
   ]
  },
  {
   "cell_type": "markdown",
   "metadata": {},
   "source": [
    "This notebook performs sentiment analysis and thematic analysis on the Google Play Store reviews collected in Task 1."
   ]
  },
  {
   "cell_type": "code",
   "execution_count": 1,
   "metadata": {},
   "outputs": [
    {
     "name": "stdout",
     "output_type": "stream",
     "text": [
      "Added c:\\Users\\Eyoel\\Desktop\\Files\\scraping-week-2\\src to sys.path\n"
     ]
    },
    {
     "name": "stderr",
     "output_type": "stream",
     "text": [
      "c:\\Users\\Eyoel\\Desktop\\Files\\scraping-week-2\\.venv\\Lib\\site-packages\\tqdm\\auto.py:21: TqdmWarning: IProgress not found. Please update jupyter and ipywidgets. See https://ipywidgets.readthedocs.io/en/stable/user_install.html\n",
      "  from .autonotebook import tqdm as notebook_tqdm\n"
     ]
    }
   ],
   "source": [
    "# Import necessary libraries\n",
    "import pandas as pd\n",
    "import numpy as np\n",
    "import sys\n",
    "import os\n",
    "\n",
    "# Add src to path to import custom modules\n",
    "module_path = os.path.abspath(os.path.join('..', 'src'))\n",
    "if module_path not in sys.path:\n",
    "    sys.path.append(module_path)\n",
    "    print(f\"Added {module_path} to sys.path\")\n",
    "\n",
    "from utils.analyzer import SentimentAnalyzer, ThematicAnalyzer\n",
    "\n",
    "# For downloading spacy model if not present\n",
    "# import spacy\n",
    "# try:\n",
    "#     nlp = spacy.load('en_core_web_sm')\n",
    "# except OSError:\n",
    "#     print('Downloading language model for spaCy...')\n",
    "#     from spacy.cli import download\n",
    "#     download('en_core_web_sm')\n",
    "#     nlp = spacy.load('en_core_web_sm')\n"
   ]
  },
  {
   "cell_type": "markdown",
   "metadata": {},
   "source": [
    "## 1. Load Data"
   ]
  },
  {
   "cell_type": "code",
   "execution_count": 2,
   "metadata": {},
   "outputs": [
    {
     "name": "stdout",
     "output_type": "stream",
     "text": [
      "Loaded 1185 reviews from ../data/google_play_reviews.csv\n"
     ]
    },
    {
     "data": {
      "text/html": [
       "<div>\n",
       "<style scoped>\n",
       "    .dataframe tbody tr th:only-of-type {\n",
       "        vertical-align: middle;\n",
       "    }\n",
       "\n",
       "    .dataframe tbody tr th {\n",
       "        vertical-align: top;\n",
       "    }\n",
       "\n",
       "    .dataframe thead th {\n",
       "        text-align: right;\n",
       "    }\n",
       "</style>\n",
       "<table border=\"1\" class=\"dataframe\">\n",
       "  <thead>\n",
       "    <tr style=\"text-align: right;\">\n",
       "      <th></th>\n",
       "      <th>review</th>\n",
       "      <th>rating</th>\n",
       "      <th>date</th>\n",
       "      <th>bank</th>\n",
       "      <th>source</th>\n",
       "    </tr>\n",
       "  </thead>\n",
       "  <tbody>\n",
       "    <tr>\n",
       "      <th>0</th>\n",
       "      <td>yetemeta</td>\n",
       "      <td>1</td>\n",
       "      <td>2025-06-03</td>\n",
       "      <td>Commercial Bank of Ethiopia</td>\n",
       "      <td>Google Play</td>\n",
       "    </tr>\n",
       "    <tr>\n",
       "      <th>1</th>\n",
       "      <td>Engida Kebede Fetera</td>\n",
       "      <td>5</td>\n",
       "      <td>2025-06-03</td>\n",
       "      <td>Commercial Bank of Ethiopia</td>\n",
       "      <td>Google Play</td>\n",
       "    </tr>\n",
       "    <tr>\n",
       "      <th>2</th>\n",
       "      <td>good</td>\n",
       "      <td>5</td>\n",
       "      <td>2025-06-03</td>\n",
       "      <td>Commercial Bank of Ethiopia</td>\n",
       "      <td>Google Play</td>\n",
       "    </tr>\n",
       "    <tr>\n",
       "      <th>3</th>\n",
       "      <td>it is not safety</td>\n",
       "      <td>1</td>\n",
       "      <td>2025-06-03</td>\n",
       "      <td>Commercial Bank of Ethiopia</td>\n",
       "      <td>Google Play</td>\n",
       "    </tr>\n",
       "    <tr>\n",
       "      <th>4</th>\n",
       "      <td>NICE bank</td>\n",
       "      <td>5</td>\n",
       "      <td>2025-06-03</td>\n",
       "      <td>Commercial Bank of Ethiopia</td>\n",
       "      <td>Google Play</td>\n",
       "    </tr>\n",
       "  </tbody>\n",
       "</table>\n",
       "</div>"
      ],
      "text/plain": [
       "                 review  rating        date                         bank  \\\n",
       "0              yetemeta       1  2025-06-03  Commercial Bank of Ethiopia   \n",
       "1  Engida Kebede Fetera       5  2025-06-03  Commercial Bank of Ethiopia   \n",
       "2                  good       5  2025-06-03  Commercial Bank of Ethiopia   \n",
       "3      it is not safety       1  2025-06-03  Commercial Bank of Ethiopia   \n",
       "4             NICE bank       5  2025-06-03  Commercial Bank of Ethiopia   \n",
       "\n",
       "        source  \n",
       "0  Google Play  \n",
       "1  Google Play  \n",
       "2  Google Play  \n",
       "3  Google Play  \n",
       "4  Google Play  "
      ]
     },
     "execution_count": 2,
     "metadata": {},
     "output_type": "execute_result"
    }
   ],
   "source": [
    "DATA_PATH = '../data/google_play_reviews.csv'\n",
    "df_reviews = pd.read_csv(DATA_PATH)\n",
    "\n",
    "print(f\"Loaded {len(df_reviews)} reviews from {DATA_PATH}\")\n",
    "df_reviews.head()"
   ]
  },
  {
   "cell_type": "markdown",
   "metadata": {},
   "source": [
    "## 2. Sentiment Analysis"
   ]
  },
  {
   "cell_type": "code",
   "execution_count": 3,
   "metadata": {},
   "outputs": [
    {
     "name": "stdout",
     "output_type": "stream",
     "text": [
      "Sentiment pipeline loaded successfully with model: distilbert-base-uncased-finetuned-sst-2-english\n",
      "Starting sentiment prediction for 1185 reviews...\n",
      "Finished sentiment prediction.\n",
      "Sentiment labels and scores added to DataFrame.\n"
     ]
    },
    {
     "data": {
      "text/html": [
       "<div>\n",
       "<style scoped>\n",
       "    .dataframe tbody tr th:only-of-type {\n",
       "        vertical-align: middle;\n",
       "    }\n",
       "\n",
       "    .dataframe tbody tr th {\n",
       "        vertical-align: top;\n",
       "    }\n",
       "\n",
       "    .dataframe thead th {\n",
       "        text-align: right;\n",
       "    }\n",
       "</style>\n",
       "<table border=\"1\" class=\"dataframe\">\n",
       "  <thead>\n",
       "    <tr style=\"text-align: right;\">\n",
       "      <th></th>\n",
       "      <th>review</th>\n",
       "      <th>sentiment_label</th>\n",
       "      <th>sentiment_score</th>\n",
       "    </tr>\n",
       "  </thead>\n",
       "  <tbody>\n",
       "    <tr>\n",
       "      <th>0</th>\n",
       "      <td>yetemeta</td>\n",
       "      <td>POSITIVE</td>\n",
       "      <td>0.655367</td>\n",
       "    </tr>\n",
       "    <tr>\n",
       "      <th>1</th>\n",
       "      <td>Engida Kebede Fetera</td>\n",
       "      <td>NEGATIVE</td>\n",
       "      <td>0.839674</td>\n",
       "    </tr>\n",
       "    <tr>\n",
       "      <th>2</th>\n",
       "      <td>good</td>\n",
       "      <td>POSITIVE</td>\n",
       "      <td>0.999816</td>\n",
       "    </tr>\n",
       "    <tr>\n",
       "      <th>3</th>\n",
       "      <td>it is not safety</td>\n",
       "      <td>NEGATIVE</td>\n",
       "      <td>0.999787</td>\n",
       "    </tr>\n",
       "    <tr>\n",
       "      <th>4</th>\n",
       "      <td>NICE bank</td>\n",
       "      <td>POSITIVE</td>\n",
       "      <td>0.999806</td>\n",
       "    </tr>\n",
       "  </tbody>\n",
       "</table>\n",
       "</div>"
      ],
      "text/plain": [
       "                 review sentiment_label  sentiment_score\n",
       "0              yetemeta        POSITIVE         0.655367\n",
       "1  Engida Kebede Fetera        NEGATIVE         0.839674\n",
       "2                  good        POSITIVE         0.999816\n",
       "3      it is not safety        NEGATIVE         0.999787\n",
       "4             NICE bank        POSITIVE         0.999806"
      ]
     },
     "execution_count": 3,
     "metadata": {},
     "output_type": "execute_result"
    }
   ],
   "source": [
    "sentiment_analyzer = SentimentAnalyzer()\n",
    "\n",
    "# Ensure 'review' column is of string type and handle NaNs by converting to empty string\n",
    "df_reviews['review_text_for_sentiment'] = df_reviews['review'].astype(str).fillna('')\n",
    "\n",
    "# Predict sentiment for all reviews (can be time-consuming for large datasets)\n",
    "# Consider processing in batches if memory/time is an issue\n",
    "review_texts = df_reviews['review_text_for_sentiment'].tolist()\n",
    "\n",
    "# For testing, process a small subset first\n",
    "# test_sentiments = sentiment_analyzer.predict_sentiment(review_texts[:10])\n",
    "# print(test_sentiments)\n",
    "\n",
    "if sentiment_analyzer.sentiment_pipeline: # Proceed only if model loaded\n",
    "    print(f\"Starting sentiment prediction for {len(review_texts)} reviews...\")\n",
    "    sentiments = sentiment_analyzer.predict_sentiment(review_texts)\n",
    "    print(f\"Finished sentiment prediction.\")\n",
    "    \n",
    "    # Add sentiment to DataFrame\n",
    "    if sentiments and len(sentiments) == len(df_reviews):\n",
    "        df_reviews['sentiment_label'] = [s['label'] for s in sentiments]\n",
    "        df_reviews['sentiment_score'] = [s['score'] for s in sentiments]\n",
    "        print(\"Sentiment labels and scores added to DataFrame.\")\n",
    "    else:\n",
    "        print(\"Could not add sentiment labels/scores. Mismatch in length or empty results.\")\n",
    "        df_reviews['sentiment_label'] = 'Error'\n",
    "        df_reviews['sentiment_score'] = np.nan\n",
    "else:\n",
    "    print(\"Sentiment model not loaded. Skipping sentiment analysis.\")\n",
    "    df_reviews['sentiment_label'] = 'Not Processed'\n",
    "    df_reviews['sentiment_score'] = np.nan\n",
    "\n",
    "df_reviews[['review', 'sentiment_label', 'sentiment_score']].head()"
   ]
  },
  {
   "cell_type": "markdown",
   "metadata": {},
   "source": [
    "### 2.1. Aggregate Sentiment by Bank and Rating"
   ]
  },
  {
   "cell_type": "code",
   "execution_count": 4,
   "metadata": {},
   "outputs": [
    {
     "name": "stdout",
     "output_type": "stream",
     "text": [
      "Sentiment Distribution by Bank and Rating:\n",
      "sentiment_label                     NEGATIVE  POSITIVE\n",
      "bank                        rating                    \n",
      "Bank of Abysinnia           1            149        15\n",
      "                            2             10         1\n",
      "                            3             17        13\n",
      "                            4              9         8\n",
      "                            5             43       134\n",
      "Commercial Bank of Ethiopia 1             36        10\n",
      "                            2              9         4\n",
      "                            3             16         5\n",
      "                            4             19        20\n",
      "                            5             44       224\n",
      "Dashen Bank                 1             31         2\n",
      "                            2             15         1\n",
      "                            3              6         5\n",
      "                            4             12        12\n",
      "                            5             38       277\n",
      "Sentiment Percentage per Bank:\n",
      "sentiment_label               NEGATIVE   POSITIVE\n",
      "bank                                             \n",
      "Bank of Abysinnia            57.142857  42.857143\n",
      "Commercial Bank of Ethiopia  32.041344  67.958656\n",
      "Dashen Bank                  25.563910  74.436090\n"
     ]
    }
   ],
   "source": [
    "# Convert sentiment_label to numerical for aggregation if needed (e.g., POSITIVE=1, NEGATIVE=-1, NEUTRAL=0)\n",
    "# Or analyze distribution of labels\n",
    "if 'sentiment_label' in df_reviews.columns and df_reviews['sentiment_label'].isin(['POSITIVE', 'NEGATIVE']).any():\n",
    "    sentiment_summary = df_reviews.groupby(['bank', 'rating', 'sentiment_label']).size().unstack(fill_value=0)\n",
    "    print(\"Sentiment Distribution by Bank and Rating:\")\n",
    "    print(sentiment_summary)\n",
    "    \n",
    "    # Example: Mean sentiment score (if scores are meaningful for direct averaging)\n",
    "    # Note: DistilBERT scores are confidence in the label, not directly comparable as +1/-1\n",
    "    # For a more direct 'polarity' score, VADER or TextBlob might be simpler if that's needed.\n",
    "    # Here, we'll look at the distribution of labels primarily.\n",
    "    \n",
    "    # Calculate percentage of positive/negative reviews per bank\n",
    "    bank_sentiment_dist = df_reviews.groupby('bank')['sentiment_label'].value_counts(normalize=True).mul(100).unstack(fill_value=0)\n",
    "    print(\"Sentiment Percentage per Bank:\")\n",
    "    print(bank_sentiment_dist)\n",
    "else:\n",
    "    print(\"Sentiment labels not available or not in expected format for aggregation.\")"
   ]
  },
  {
   "cell_type": "markdown",
   "metadata": {},
   "source": [
    "## 3. Thematic Analysis (Placeholder)"
   ]
  },
  {
   "cell_type": "code",
   "execution_count": 5,
   "metadata": {},
   "outputs": [
    {
     "data": {
      "text/html": [
       "<div>\n",
       "<style scoped>\n",
       "    .dataframe tbody tr th:only-of-type {\n",
       "        vertical-align: middle;\n",
       "    }\n",
       "\n",
       "    .dataframe tbody tr th {\n",
       "        vertical-align: top;\n",
       "    }\n",
       "\n",
       "    .dataframe thead th {\n",
       "        text-align: right;\n",
       "    }\n",
       "</style>\n",
       "<table border=\"1\" class=\"dataframe\">\n",
       "  <thead>\n",
       "    <tr style=\"text-align: right;\">\n",
       "      <th></th>\n",
       "      <th>review</th>\n",
       "      <th>rating</th>\n",
       "      <th>date</th>\n",
       "      <th>bank</th>\n",
       "      <th>source</th>\n",
       "      <th>review_text_for_sentiment</th>\n",
       "      <th>sentiment_label</th>\n",
       "      <th>sentiment_score</th>\n",
       "    </tr>\n",
       "  </thead>\n",
       "  <tbody>\n",
       "    <tr>\n",
       "      <th>0</th>\n",
       "      <td>yetemeta</td>\n",
       "      <td>1</td>\n",
       "      <td>2025-06-03</td>\n",
       "      <td>Commercial Bank of Ethiopia</td>\n",
       "      <td>Google Play</td>\n",
       "      <td>yetemeta</td>\n",
       "      <td>POSITIVE</td>\n",
       "      <td>0.655367</td>\n",
       "    </tr>\n",
       "    <tr>\n",
       "      <th>1</th>\n",
       "      <td>Engida Kebede Fetera</td>\n",
       "      <td>5</td>\n",
       "      <td>2025-06-03</td>\n",
       "      <td>Commercial Bank of Ethiopia</td>\n",
       "      <td>Google Play</td>\n",
       "      <td>Engida Kebede Fetera</td>\n",
       "      <td>NEGATIVE</td>\n",
       "      <td>0.839674</td>\n",
       "    </tr>\n",
       "    <tr>\n",
       "      <th>2</th>\n",
       "      <td>good</td>\n",
       "      <td>5</td>\n",
       "      <td>2025-06-03</td>\n",
       "      <td>Commercial Bank of Ethiopia</td>\n",
       "      <td>Google Play</td>\n",
       "      <td>good</td>\n",
       "      <td>POSITIVE</td>\n",
       "      <td>0.999816</td>\n",
       "    </tr>\n",
       "    <tr>\n",
       "      <th>3</th>\n",
       "      <td>it is not safety</td>\n",
       "      <td>1</td>\n",
       "      <td>2025-06-03</td>\n",
       "      <td>Commercial Bank of Ethiopia</td>\n",
       "      <td>Google Play</td>\n",
       "      <td>it is not safety</td>\n",
       "      <td>NEGATIVE</td>\n",
       "      <td>0.999787</td>\n",
       "    </tr>\n",
       "    <tr>\n",
       "      <th>4</th>\n",
       "      <td>NICE bank</td>\n",
       "      <td>5</td>\n",
       "      <td>2025-06-03</td>\n",
       "      <td>Commercial Bank of Ethiopia</td>\n",
       "      <td>Google Play</td>\n",
       "      <td>NICE bank</td>\n",
       "      <td>POSITIVE</td>\n",
       "      <td>0.999806</td>\n",
       "    </tr>\n",
       "  </tbody>\n",
       "</table>\n",
       "</div>"
      ],
      "text/plain": [
       "                 review  rating        date                         bank  \\\n",
       "0              yetemeta       1  2025-06-03  Commercial Bank of Ethiopia   \n",
       "1  Engida Kebede Fetera       5  2025-06-03  Commercial Bank of Ethiopia   \n",
       "2                  good       5  2025-06-03  Commercial Bank of Ethiopia   \n",
       "3      it is not safety       1  2025-06-03  Commercial Bank of Ethiopia   \n",
       "4             NICE bank       5  2025-06-03  Commercial Bank of Ethiopia   \n",
       "\n",
       "        source review_text_for_sentiment sentiment_label  sentiment_score  \n",
       "0  Google Play                  yetemeta        POSITIVE         0.655367  \n",
       "1  Google Play      Engida Kebede Fetera        NEGATIVE         0.839674  \n",
       "2  Google Play                      good        POSITIVE         0.999816  \n",
       "3  Google Play          it is not safety        NEGATIVE         0.999787  \n",
       "4  Google Play                 NICE bank        POSITIVE         0.999806  "
      ]
     },
     "execution_count": 5,
     "metadata": {},
     "output_type": "execute_result"
    }
   ],
   "source": [
    "thematic_analyzer = ThematicAnalyzer()\n",
    "# Placeholder for using thematic_analyzer\n",
    "# df_reviews['keywords'] = thematic_analyzer.extract_keywords(df_reviews['review_text_for_sentiment'].tolist())\n",
    "# df_reviews['themes'] = ... based on keyword clustering ...\n",
    "df_reviews.head()"
   ]
  },
  {
   "cell_type": "markdown",
   "metadata": {},
   "source": [
    "## 4. Save Results"
   ]
  },
  {
   "cell_type": "code",
   "execution_count": 6,
   "metadata": {},
   "outputs": [
    {
     "name": "stdout",
     "output_type": "stream",
     "text": [
      "Results saved to ../data/reviews_with_sentiment_themes.csv\n"
     ]
    }
   ],
   "source": [
    "OUTPUT_TASK2_CSV_PATH = '../data/reviews_with_sentiment_themes.csv'\n",
    "df_reviews.to_csv(OUTPUT_TASK2_CSV_PATH, index=False)\n",
    "print(f\"Results saved to {OUTPUT_TASK2_CSV_PATH}\")"
   ]
  },
  {
   "cell_type": "markdown",
   "metadata": {},
   "source": [
    "## 5. KPIs Check (Placeholder)"
   ]
  },
  {
   "cell_type": "code",
   "execution_count": 7,
   "metadata": {},
   "outputs": [
    {
     "name": "stdout",
     "output_type": "stream",
     "text": [
      "Sentiment analysis coverage: 100.00%\n"
     ]
    }
   ],
   "source": [
    "# KPI: Sentiment scores for 90%+ reviews.\n",
    "processed_sentiment_count = df_reviews[df_reviews['sentiment_label'] != 'Error'].shape[0]\n",
    "total_reviews = len(df_reviews)\n",
    "sentiment_coverage = (processed_sentiment_count / total_reviews) * 100 if total_reviews > 0 else 0\n",
    "print(f\"Sentiment analysis coverage: {sentiment_coverage:.2f}%\")\n",
    "\n",
    "# KPI: 3+ themes per bank with examples. (To be implemented)"
   ]
  },
  {
   "cell_type": "code",
   "execution_count": null,
   "id": "4d430d5a",
   "metadata": {},
   "outputs": [],
   "source": []
  }
 ],
 "metadata": {
  "kernelspec": {
   "display_name": ".venv",
   "language": "python",
   "name": "python3"
  },
  "language_info": {
   "codemirror_mode": {
    "name": "ipython",
    "version": 3
   },
   "file_extension": ".py",
   "mimetype": "text/x-python",
   "name": "python",
   "nbconvert_exporter": "python",
   "pygments_lexer": "ipython3",
   "version": "3.12.7"
  }
 },
 "nbformat": 4,
 "nbformat_minor": 5
}
