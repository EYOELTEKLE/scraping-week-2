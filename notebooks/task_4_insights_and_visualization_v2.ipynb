{
 "cells": [
  {
   "cell_type": "markdown",
   "metadata": {},
   "source": [
    "# Task 4: Insights and Visualization"
   ]
  },
  {
   "cell_type": "markdown",
   "metadata": {},
   "source": [
    "This notebook focuses on deriving actionable insights from the analyzed Google Play Store reviews (Task 2 output) and creating visualizations to communicate these findings."
   ]
  },
  {
   "cell_type": "code",
   "execution_count": null,
   "metadata": {},
   "outputs": [],
   "source": [
    "# Import necessary libraries\n",
    "import pandas as pd\n",
    "import numpy as np\n",
    "import matplotlib.pyplot as plt\n",
    "import seaborn as sns\n",
    "from wordcloud import WordCloud, STOPWORDS\n",
    "import os\n",
    "\n",
    "# Configure plots\n",
    "%matplotlib inline\n",
    "sns.set_style('whitegrid')\n",
    "plt.rcParams['figure.figsize'] = (12, 7)"
   ]
  },
  {
   "cell_type": "markdown",
   "metadata": {},
   "source": [
    "## 1. Load Analyzed Data"
   ]
  },
  {
   "cell_type": "code",
   "execution_count": null,
   "metadata": {},
   "outputs": [],
   "source": [
    "# Assuming the output from Task 2 (with sentiment and potentially themes) is saved here:\n",
    "# Update this path if your file is named or located differently.\n",
    "ANALYZED_DATA_PATH = '../data/reviews_with_sentiment_themes.csv'\n",
    "import os # Ensure os is imported\n",
    "import pandas as pd # Ensure pandas is imported\n",
    "\n",
    "if os.path.exists(ANALYZED_DATA_PATH):\n",
    "    df_analyzed = pd.read_csv(ANALYZED_DATA_PATH)\n",
    "    print(f\"Successfully loaded {len(df_analyzed)} reviews from {ANALYZED_DATA_PATH}\")\n",
    "    # Convert 'review_date' back to datetime if it's not already\n",
    "    if 'review_date' in df_analyzed.columns:\n",
    "        df_analyzed['review_date'] = pd.to_datetime(df_analyzed['review_date'])\n",
    "    df_analyzed.head()\n",
    "else:\n",
    "    error_message_line1 = f\"Error: Analyzed data file not found at {ANALYZED_DATA_PATH}.\"\n",
    "    error_message_line2 = \"Please ensure Task 2 was completed and the output CSV is correctly named and placed.\"\n",
    "    print(error_message_line1)\n",
    "    print(error_message_line2)\n",
    "    \n",
    "    # Create a placeholder DataFrame if file not found, to allow notebook to run partially\n",
    "    # You'll need to replace this with actual data loading logic for full functionality.\n",
    "    df_analyzed = pd.DataFrame({\n",
    "        'review': ['Great app!', 'Terrible experience.', 'Okay, but needs improvement.', 'Love the new features!', 'Crashes too often.'],\n",
    "        'rating': [5, 1, 3, 4, 2],\n",
    "        'date': pd.to_datetime(['2023-01-01', '2023-01-02', '2023-01-03', '2023-01-04', '2023-01-05']),\n",
    "        'bank': ['Bank A', 'Bank B', 'Bank A', 'Bank C', 'Bank B'],\n",
    "        'source': ['Google Play Store'] * 5,\n",
    "        'sentiment_label': ['POSITIVE', 'NEGATIVE', 'NEUTRAL', 'POSITIVE', 'NEGATIVE'], # Example, replace NEUTRAL if not used\n",
    "        'sentiment_score': [0.99, 0.98, 0.70, 0.95, 0.90],\n",
    "        'themes': ['UI', 'Performance', 'Features', 'UI', 'Performance'] # Example themes\n",
    "    })\n",
    "    print(\"Using placeholder data as an example.\")"
   ]
  },
  {
   "cell_type": "markdown",
   "metadata": {},
   "source": [
    "## 2. Identify Drivers and Pain Points"
   ]
  },
  {
   "cell_type": "code",
   "execution_count": null,
   "metadata": {},
   "outputs": [],
   "source": [
    "# Example: Identify top positive/negative reviews or keywords within them\n",
    "# This section will require more specific logic based on how themes were identified in Task 2\n",
    "# or by analyzing reviews with high/low sentiment scores and ratings.\n",
    "\n",
    "if 'sentiment_label' in df_analyzed.columns:\n",
    "    print(\"\\n--- Top 5 Positive Reviews (High Rating & Positive Sentiment) ---\")\n",
    "    positive_reviews = df_analyzed[(df_analyzed['rating'] >= 4) & (df_analyzed['sentiment_label'] == 'POSITIVE')].sort_values(by='sentiment_score', ascending=False)\n",
    "    for i, row in positive_reviews.head().iterrows():\n",
    "        print(f\"Bank: {row['bank']}, Rating: {row['rating']}, Sentiment: {row['sentiment_label']} ({row['sentiment_score']:.2f})\\nReview: {row['review'][:200]}...\\n---\")\n",
    "    \n",
    "    print(\"\\n--- Top 5 Negative Reviews (Low Rating & Negative Sentiment) ---\")\n",
    "    negative_reviews = df_analyzed[(df_analyzed['rating'] <= 2) & (df_analyzed['sentiment_label'] == 'NEGATIVE')].sort_values(by='sentiment_score', ascending=False) # score is confidence, so still sort high for strong negative\n",
    "    for i, row in negative_reviews.head().iterrows():\n",
    "        print(f\"Bank: {row['bank']}, Rating: {row['rating']}, Sentiment: {row['sentiment_label']} ({row['sentiment_score']:.2f})\\nReview: {row['review'][:200]}...\\n---\")\n",
    "else:\n",
    "    print(\"Sentiment labels not found. Skipping driver/pain point identification based on sentiment.\")\n",
    "\n",
    "# Placeholder for identifying drivers/pain points based on themes if 'themes' column exists\n",
    "# if 'themes' in df_analyzed.columns:\n",
    "#     theme_counts = df_analyzed.groupby(['bank', 'themes', 'sentiment_label']).size().unstack(fill_value=0)\n",
    "#     print(\"\\nTheme distribution by sentiment:\\n\")\n",
    "#     print(theme_counts)"
   ]
  },
  {
   "cell_type": "markdown",
   "metadata": {},
   "source": [
    "## 3. Compare Banks"
   ]
  },
  {
   "cell_type": "code",
   "execution_count": null,
   "metadata": {},
   "outputs": [],
   "source": [
    "if 'bank' in df_analyzed.columns:\n",
    "    print(\"\\n--- Average Rating per Bank ---\")\n",
    "    avg_rating_bank = df_analyzed.groupby('bank')['rating'].mean().sort_values(ascending=False)\n",
    "    print(avg_rating_bank)\n",
    "    \n",
    "    if 'sentiment_label' in df_analyzed.columns:\n",
    "        print(\"\\n--- Sentiment Distribution per Bank ---\")\n",
    "        sentiment_dist_bank = df_analyzed.groupby('bank')['sentiment_label'].value_counts(normalize=True).mul(100).unstack(fill_value=0)\n",
    "        print(sentiment_dist_bank)\n",
    "else:\n",
    "    print(\"Bank or sentiment information not found for comparison.\")"
   ]
  },
  {
   "cell_type": "markdown",
   "metadata": {},
   "source": [
    "## 4. Suggest Improvements (Placeholder)"
   ]
  },
  {
   "cell_type": "code",
   "execution_count": null,
   "metadata": {},
   "outputs": [],
   "source": [
    "print(\"\\n--- Suggested Improvements (Based on Analysis) ---\")\n",
    "# This section should be manually filled based on the identified pain points and drivers.\n",
    "# Example: \n",
    "# 1. If 'login issue' is a common negative theme for Bank X, suggest 'Improve login reliability for Bank X'.\n",
    "# 2. If 'good UI' is a common positive theme for Bank Y, suggest 'Maintain and enhance UI for Bank Y, consider for other banks'.\n",
    "print(\"1. Suggestion 1: [Based on findings]\")\n",
    "print(\"2. Suggestion 2: [Based on findings]\")"
   ]
  },
  {
   "cell_type": "markdown",
   "metadata": {},
   "source": [
    "## 5. Visualizations"
   ]
  },
  {
   "cell_type": "markdown",
   "metadata": {},
   "source": [
    "### 5.1. Rating Distribution"
   ]
  },
  {
   "cell_type": "code",
   "execution_count": null,
   "metadata": {},
   "outputs": [],
   "source": [
    "if 'rating' in df_analyzed.columns:\n",
    "    plt.figure(figsize=(10,6))\n",
    "    sns.countplot(data=df_analyzed, x='rating', hue='bank' if 'bank' in df_analyzed.columns else None, palette='viridis')\n",
    "    plt.title('Distribution of Ratings by Bank')\n",
    "    plt.xlabel('Rating')\n",
    "    plt.ylabel('Number of Reviews')\n",
    "    plt.show()\n",
    "else:\n",
    "    print(\"Rating data not found for visualization.\")"
   ]
  },
  {
   "cell_type": "markdown",
   "metadata": {},
   "source": [
    "### 5.2. Sentiment Trends"
   ]
  },
  {
   "cell_type": "code",
   "execution_count": null,
   "metadata": {},
   "outputs": [],
   "source": [
    "if 'sentiment_label' in df_analyzed.columns:\n",
    "    plt.figure(figsize=(10,6))\n",
    "    sns.countplot(data=df_analyzed, x='sentiment_label', hue='bank' if 'bank' in df_analyzed.columns else None, palette='coolwarm')\n",
    "    plt.title('Distribution of Sentiment by Bank')\n",
    "    plt.xlabel('Sentiment Label')\n",
    "    plt.ylabel('Number of Reviews')\n",
    "    plt.show()\n",
    "\n",
    "    # Sentiment over time (if 'review_date' is available and meaningful)\n",
    "    # if 'review_date' in df_analyzed.columns:\n",
    "    #     df_analyzed.set_index('review_date', inplace=True)\n",
    "    #     # Example: Resample by month and count sentiments (requires sentiment_label to be numeric or one-hot encoded)\n",
    "    #     # sentiment_over_time = df_analyzed.groupby('bank')['sentiment_label'].resample('M').count().unstack(level=0, fill_value=0) # Adjust logic\n",
    "    #     # sentiment_over_time.plot(kind='line', figsize=(14,7))\n",
    "    #     # plt.title('Sentiment Trends Over Time by Bank')\n",
    "    #     # plt.ylabel('Number of Reviews')\n",
    "    #     # plt.show()\\n",
    "    #     # df_analyzed.reset_index(inplace=True) # Reset index if changed\n",
    "else:\n",
    "    print(\"Sentiment data not found for visualization.\")"
   ]
  },
  {
   "cell_type": "markdown",
   "metadata": {},
   "source": [
    "### 5.3. Keyword Clouds"
   ]
  },
  {
   "cell_type": "code",
   "execution_count": null,
   "metadata": {},
   "outputs": [],
   "source": [
    "if 'review' in df_analyzed.columns and 'sentiment_label' in df_analyzed.columns:\n",
    "    stopwords = set(STOPWORDS)\n",
    "    # Add custom stopwords if needed: stopwords.update(['app', 'bank', 'review', 'etc'])\n",
    "\n",
    "    positive_text = ' '.join(df_analyzed[df_analyzed['sentiment_label'] == 'POSITIVE']['review'].dropna())\n",
    "    negative_text = ' '.join(df_analyzed[df_analyzed['sentiment_label'] == 'NEGATIVE']['review'].dropna())\n",
    "\n",
    "    if positive_text:\n",
    "        wordcloud_positive = WordCloud(width=800, height=400, background_color='white', stopwords=stopwords).generate(positive_text)\n",
    "        plt.figure(figsize=(10, 5))\n",
    "        plt.imshow(wordcloud_positive, interpolation='bilinear')\n",
    "        plt.axis('off')\n",
    "        plt.title('Word Cloud for Positive Reviews')\n",
    "        plt.show()\n",
    "    else:\n",
    "        print(\"No positive reviews found to generate word cloud.\")\n",
    "\n",
    "    if negative_text:\n",
    "        wordcloud_negative = WordCloud(width=800, height=400, background_color='black', colormap='Reds', stopwords=stopwords).generate(negative_text)\n",
    "        plt.figure(figsize=(10, 5))\n",
    "        plt.imshow(wordcloud_negative, interpolation='bilinear')\n",
    "        plt.axis('off')\n",
    "        plt.title('Word Cloud for Negative Reviews')\n",
    "        plt.show()\n",
    "    else:\n",
    "        print(\"No negative reviews found to generate word cloud.\")\n",
    "else:\n",
    "    print(\"Review text or sentiment labels not found for word cloud generation.\")"
   ]
  },
  {
   "cell_type": "markdown",
   "metadata": {},
   "source": [
    "## 6. Ethical Considerations"
   ]
  },
  {
   "cell_type": "code",
   "execution_count": null,
   "metadata": {},
   "outputs": [],
   "source": [
    "print(\"\\n--- Ethical Considerations ---\")\n",
    "print(\"1. **Selection Bias**: Reviews on app stores might not represent all users. Users with very strong opinions (positive or negative) are more likely to leave reviews, potentially skewing the overall sentiment.\")\n",
    "print(\"2. **Demographic Bias**: The demographics of users leaving reviews might not match the bank's overall customer base.\")\n",
    "print(\"3. **Sentiment Model Limitations**: The sentiment model (DistilBERT) is trained on general text and might misinterpret domain-specific jargon or sarcasm prevalent in financial app reviews.\")\n",
    "print(\"4. **Small Sample Size for Certain Segments**: If a particular bank or rating category has few reviews, insights drawn from it might not be reliable.\")\n",
    "print(\"5. **Privacy**: While reviews are public, ensure aggregated insights do not inadvertently reveal personally identifiable information if combined with other data.\")"
   ]
  },
  {
   "cell_type": "markdown",
   "metadata": {},
   "source": [
    "## 7. KPIs Check (Placeholder)"
   ]
  },
  {
   "cell_type": "code",
   "execution_count": null,
   "metadata": {},
   "outputs": [],
   "source": [
    "# KPI: 2+ drivers/pain points with evidence. (To be verified after analysis)\n",
    "# KPI: Clear, labeled visualizations. (To be verified after generating plots)\n",
    "# KPI: Practical recommendations. (To be verified after formulating suggestions)"
   ]
  }
 ],
 "metadata": {
  "kernelspec": {
   "display_name": "Python 3 (ipykernel)",
   "language": "python",
   "name": "python3"
  },
  "language_info": {
   "codemirror_mode": {
    "name": "ipython",
    "version": 3
   },
   "file_extension": ".py",
   "mimetype": "text/x-python",
   "name": "python",
   "nbconvert_exporter": "python",
   "pygments_lexer": "ipython3",
   "version": "3.12.7"
  }
 },
 "nbformat": 4,
 "nbformat_minor": 5
}
